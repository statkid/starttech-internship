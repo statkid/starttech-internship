{
 "cells": [
  {
   "cell_type": "code",
   "execution_count": 1,
   "id": "e1587131",
   "metadata": {},
   "outputs": [],
   "source": [
    "import numpy as np\n",
    "import pandas as pd\n",
    "import seaborn as sns\n",
    "import matplotlib.pyplot as plt\n",
    "%matplotlib inline"
   ]
  },
  {
   "cell_type": "code",
   "execution_count": 2,
   "id": "17b0ac5b",
   "metadata": {},
   "outputs": [],
   "source": [
    "df = pd.read_excel('C:/Users/vaibh/OneDrive/Desktop/Starttech_Task/Data_file.xlsx',header=0)"
   ]
  },
  {
   "cell_type": "code",
   "execution_count": 3,
   "id": "6618d729",
   "metadata": {},
   "outputs": [
    {
     "data": {
      "text/html": [
       "<div>\n",
       "<style scoped>\n",
       "    .dataframe tbody tr th:only-of-type {\n",
       "        vertical-align: middle;\n",
       "    }\n",
       "\n",
       "    .dataframe tbody tr th {\n",
       "        vertical-align: top;\n",
       "    }\n",
       "\n",
       "    .dataframe thead th {\n",
       "        text-align: right;\n",
       "    }\n",
       "</style>\n",
       "<table border=\"1\" class=\"dataframe\">\n",
       "  <thead>\n",
       "    <tr style=\"text-align: right;\">\n",
       "      <th></th>\n",
       "      <th>S.No.</th>\n",
       "      <th>College</th>\n",
       "      <th>Role</th>\n",
       "      <th>City type</th>\n",
       "      <th>Previous CTC</th>\n",
       "      <th>Previous job changes</th>\n",
       "      <th>Graduation marks</th>\n",
       "      <th>Exp (Months)</th>\n",
       "      <th>CTC</th>\n",
       "    </tr>\n",
       "  </thead>\n",
       "  <tbody>\n",
       "    <tr>\n",
       "      <th>0</th>\n",
       "      <td>1</td>\n",
       "      <td>Tier 1</td>\n",
       "      <td>Manager</td>\n",
       "      <td>Non-Metro</td>\n",
       "      <td>55523</td>\n",
       "      <td>3</td>\n",
       "      <td>66</td>\n",
       "      <td>19</td>\n",
       "      <td>71406.576531</td>\n",
       "    </tr>\n",
       "    <tr>\n",
       "      <th>1</th>\n",
       "      <td>2</td>\n",
       "      <td>Tier 2</td>\n",
       "      <td>Executive</td>\n",
       "      <td>Metro</td>\n",
       "      <td>57081</td>\n",
       "      <td>1</td>\n",
       "      <td>84</td>\n",
       "      <td>18</td>\n",
       "      <td>68005.870631</td>\n",
       "    </tr>\n",
       "    <tr>\n",
       "      <th>2</th>\n",
       "      <td>3</td>\n",
       "      <td>Tier 2</td>\n",
       "      <td>Executive</td>\n",
       "      <td>Metro</td>\n",
       "      <td>60347</td>\n",
       "      <td>2</td>\n",
       "      <td>52</td>\n",
       "      <td>28</td>\n",
       "      <td>76764.020277</td>\n",
       "    </tr>\n",
       "    <tr>\n",
       "      <th>3</th>\n",
       "      <td>4</td>\n",
       "      <td>Tier 3</td>\n",
       "      <td>Executive</td>\n",
       "      <td>Metro</td>\n",
       "      <td>49010</td>\n",
       "      <td>2</td>\n",
       "      <td>81</td>\n",
       "      <td>33</td>\n",
       "      <td>82092.386880</td>\n",
       "    </tr>\n",
       "    <tr>\n",
       "      <th>4</th>\n",
       "      <td>5</td>\n",
       "      <td>Tier 3</td>\n",
       "      <td>Executive</td>\n",
       "      <td>Metro</td>\n",
       "      <td>57879</td>\n",
       "      <td>4</td>\n",
       "      <td>74</td>\n",
       "      <td>32</td>\n",
       "      <td>73878.097729</td>\n",
       "    </tr>\n",
       "  </tbody>\n",
       "</table>\n",
       "</div>"
      ],
      "text/plain": [
       "   S.No. College       Role  City type  Previous CTC  Previous job changes  \\\n",
       "0      1  Tier 1    Manager  Non-Metro         55523                     3   \n",
       "1      2  Tier 2  Executive      Metro         57081                     1   \n",
       "2      3  Tier 2  Executive      Metro         60347                     2   \n",
       "3      4  Tier 3  Executive      Metro         49010                     2   \n",
       "4      5  Tier 3  Executive      Metro         57879                     4   \n",
       "\n",
       "   Graduation marks  Exp (Months)           CTC  \n",
       "0                66            19  71406.576531  \n",
       "1                84            18  68005.870631  \n",
       "2                52            28  76764.020277  \n",
       "3                81            33  82092.386880  \n",
       "4                74            32  73878.097729  "
      ]
     },
     "execution_count": 3,
     "metadata": {},
     "output_type": "execute_result"
    }
   ],
   "source": [
    "df.head()"
   ]
  },
  {
   "cell_type": "code",
   "execution_count": 4,
   "id": "1dfc2178",
   "metadata": {},
   "outputs": [
    {
     "data": {
      "text/plain": [
       "(1338, 9)"
      ]
     },
     "execution_count": 4,
     "metadata": {},
     "output_type": "execute_result"
    }
   ],
   "source": [
    "df.shape"
   ]
  },
  {
   "cell_type": "code",
   "execution_count": 5,
   "id": "e73776b6",
   "metadata": {},
   "outputs": [
    {
     "name": "stdout",
     "output_type": "stream",
     "text": [
      "<class 'pandas.core.frame.DataFrame'>\n",
      "RangeIndex: 1338 entries, 0 to 1337\n",
      "Data columns (total 9 columns):\n",
      " #   Column                Non-Null Count  Dtype  \n",
      "---  ------                --------------  -----  \n",
      " 0   S.No.                 1338 non-null   int64  \n",
      " 1   College               1338 non-null   object \n",
      " 2   Role                  1338 non-null   object \n",
      " 3   City type             1338 non-null   object \n",
      " 4   Previous CTC          1338 non-null   int64  \n",
      " 5   Previous job changes  1338 non-null   int64  \n",
      " 6   Graduation marks      1338 non-null   int64  \n",
      " 7   Exp (Months)          1338 non-null   int64  \n",
      " 8   CTC                   1338 non-null   float64\n",
      "dtypes: float64(1), int64(5), object(3)\n",
      "memory usage: 94.2+ KB\n"
     ]
    }
   ],
   "source": [
    "df.info()"
   ]
  },
  {
   "cell_type": "markdown",
   "id": "66f7ff77",
   "metadata": {},
   "source": [
    "### There is no missing Value in the dataset."
   ]
  },
  {
   "cell_type": "code",
   "execution_count": 6,
   "id": "2f0c549a",
   "metadata": {},
   "outputs": [
    {
     "data": {
      "text/html": [
       "<div>\n",
       "<style scoped>\n",
       "    .dataframe tbody tr th:only-of-type {\n",
       "        vertical-align: middle;\n",
       "    }\n",
       "\n",
       "    .dataframe tbody tr th {\n",
       "        vertical-align: top;\n",
       "    }\n",
       "\n",
       "    .dataframe thead th {\n",
       "        text-align: right;\n",
       "    }\n",
       "</style>\n",
       "<table border=\"1\" class=\"dataframe\">\n",
       "  <thead>\n",
       "    <tr style=\"text-align: right;\">\n",
       "      <th></th>\n",
       "      <th>S.No.</th>\n",
       "      <th>Previous CTC</th>\n",
       "      <th>Previous job changes</th>\n",
       "      <th>Graduation marks</th>\n",
       "      <th>Exp (Months)</th>\n",
       "      <th>CTC</th>\n",
       "    </tr>\n",
       "  </thead>\n",
       "  <tbody>\n",
       "    <tr>\n",
       "      <th>count</th>\n",
       "      <td>1338.000000</td>\n",
       "      <td>1338.000000</td>\n",
       "      <td>1338.000000</td>\n",
       "      <td>1338.000000</td>\n",
       "      <td>1338.000000</td>\n",
       "      <td>1338.000000</td>\n",
       "    </tr>\n",
       "    <tr>\n",
       "      <th>mean</th>\n",
       "      <td>669.500000</td>\n",
       "      <td>55581.762332</td>\n",
       "      <td>2.525411</td>\n",
       "      <td>59.890882</td>\n",
       "      <td>39.207025</td>\n",
       "      <td>75459.338993</td>\n",
       "    </tr>\n",
       "    <tr>\n",
       "      <th>std</th>\n",
       "      <td>386.391641</td>\n",
       "      <td>6685.600553</td>\n",
       "      <td>1.123502</td>\n",
       "      <td>14.894696</td>\n",
       "      <td>14.049960</td>\n",
       "      <td>12551.280263</td>\n",
       "    </tr>\n",
       "    <tr>\n",
       "      <th>min</th>\n",
       "      <td>1.000000</td>\n",
       "      <td>36990.000000</td>\n",
       "      <td>1.000000</td>\n",
       "      <td>35.000000</td>\n",
       "      <td>18.000000</td>\n",
       "      <td>53020.319026</td>\n",
       "    </tr>\n",
       "    <tr>\n",
       "      <th>25%</th>\n",
       "      <td>335.250000</td>\n",
       "      <td>50547.000000</td>\n",
       "      <td>2.000000</td>\n",
       "      <td>47.000000</td>\n",
       "      <td>27.000000</td>\n",
       "      <td>66905.070033</td>\n",
       "    </tr>\n",
       "    <tr>\n",
       "      <th>50%</th>\n",
       "      <td>669.500000</td>\n",
       "      <td>55293.500000</td>\n",
       "      <td>3.000000</td>\n",
       "      <td>60.000000</td>\n",
       "      <td>39.000000</td>\n",
       "      <td>73112.640487</td>\n",
       "    </tr>\n",
       "    <tr>\n",
       "      <th>75%</th>\n",
       "      <td>1003.750000</td>\n",
       "      <td>60150.500000</td>\n",
       "      <td>4.000000</td>\n",
       "      <td>73.000000</td>\n",
       "      <td>51.000000</td>\n",
       "      <td>80747.178420</td>\n",
       "    </tr>\n",
       "    <tr>\n",
       "      <th>max</th>\n",
       "      <td>1338.000000</td>\n",
       "      <td>77911.000000</td>\n",
       "      <td>4.000000</td>\n",
       "      <td>85.000000</td>\n",
       "      <td>64.000000</td>\n",
       "      <td>123416.994271</td>\n",
       "    </tr>\n",
       "  </tbody>\n",
       "</table>\n",
       "</div>"
      ],
      "text/plain": [
       "             S.No.  Previous CTC  Previous job changes  Graduation marks  \\\n",
       "count  1338.000000   1338.000000           1338.000000       1338.000000   \n",
       "mean    669.500000  55581.762332              2.525411         59.890882   \n",
       "std     386.391641   6685.600553              1.123502         14.894696   \n",
       "min       1.000000  36990.000000              1.000000         35.000000   \n",
       "25%     335.250000  50547.000000              2.000000         47.000000   \n",
       "50%     669.500000  55293.500000              3.000000         60.000000   \n",
       "75%    1003.750000  60150.500000              4.000000         73.000000   \n",
       "max    1338.000000  77911.000000              4.000000         85.000000   \n",
       "\n",
       "       Exp (Months)            CTC  \n",
       "count   1338.000000    1338.000000  \n",
       "mean      39.207025   75459.338993  \n",
       "std       14.049960   12551.280263  \n",
       "min       18.000000   53020.319026  \n",
       "25%       27.000000   66905.070033  \n",
       "50%       39.000000   73112.640487  \n",
       "75%       51.000000   80747.178420  \n",
       "max       64.000000  123416.994271  "
      ]
     },
     "execution_count": 6,
     "metadata": {},
     "output_type": "execute_result"
    }
   ],
   "source": [
    "df.describe()"
   ]
  },
  {
   "cell_type": "markdown",
   "id": "8d19b9e6",
   "metadata": {},
   "source": [
    "### No outliers in the Dataset"
   ]
  },
  {
   "cell_type": "markdown",
   "id": "cbbee26f",
   "metadata": {},
   "source": [
    "# Creating Linear Regression Model"
   ]
  },
  {
   "cell_type": "markdown",
   "id": "127eb4b9",
   "metadata": {},
   "source": [
    "### Method 1 : Using Sklearn Model"
   ]
  },
  {
   "cell_type": "code",
   "execution_count": 7,
   "id": "524b7b23",
   "metadata": {},
   "outputs": [],
   "source": [
    "from sklearn.linear_model import LinearRegression"
   ]
  },
  {
   "cell_type": "code",
   "execution_count": 8,
   "id": "a00fadda",
   "metadata": {},
   "outputs": [],
   "source": [
    "lm = LinearRegression()"
   ]
  },
  {
   "cell_type": "code",
   "execution_count": 9,
   "id": "02586683",
   "metadata": {},
   "outputs": [
    {
     "data": {
      "text/html": [
       "<div>\n",
       "<style scoped>\n",
       "    .dataframe tbody tr th:only-of-type {\n",
       "        vertical-align: middle;\n",
       "    }\n",
       "\n",
       "    .dataframe tbody tr th {\n",
       "        vertical-align: top;\n",
       "    }\n",
       "\n",
       "    .dataframe thead th {\n",
       "        text-align: right;\n",
       "    }\n",
       "</style>\n",
       "<table border=\"1\" class=\"dataframe\">\n",
       "  <thead>\n",
       "    <tr style=\"text-align: right;\">\n",
       "      <th></th>\n",
       "      <th>S.No.</th>\n",
       "      <th>College</th>\n",
       "      <th>Role</th>\n",
       "      <th>City type</th>\n",
       "      <th>Previous CTC</th>\n",
       "      <th>Previous job changes</th>\n",
       "      <th>Graduation marks</th>\n",
       "      <th>Exp (Months)</th>\n",
       "      <th>CTC</th>\n",
       "    </tr>\n",
       "  </thead>\n",
       "  <tbody>\n",
       "    <tr>\n",
       "      <th>0</th>\n",
       "      <td>1</td>\n",
       "      <td>Tier 1</td>\n",
       "      <td>Manager</td>\n",
       "      <td>Non-Metro</td>\n",
       "      <td>55523</td>\n",
       "      <td>3</td>\n",
       "      <td>66</td>\n",
       "      <td>19</td>\n",
       "      <td>71406.576531</td>\n",
       "    </tr>\n",
       "    <tr>\n",
       "      <th>1</th>\n",
       "      <td>2</td>\n",
       "      <td>Tier 2</td>\n",
       "      <td>Executive</td>\n",
       "      <td>Metro</td>\n",
       "      <td>57081</td>\n",
       "      <td>1</td>\n",
       "      <td>84</td>\n",
       "      <td>18</td>\n",
       "      <td>68005.870631</td>\n",
       "    </tr>\n",
       "    <tr>\n",
       "      <th>2</th>\n",
       "      <td>3</td>\n",
       "      <td>Tier 2</td>\n",
       "      <td>Executive</td>\n",
       "      <td>Metro</td>\n",
       "      <td>60347</td>\n",
       "      <td>2</td>\n",
       "      <td>52</td>\n",
       "      <td>28</td>\n",
       "      <td>76764.020277</td>\n",
       "    </tr>\n",
       "    <tr>\n",
       "      <th>3</th>\n",
       "      <td>4</td>\n",
       "      <td>Tier 3</td>\n",
       "      <td>Executive</td>\n",
       "      <td>Metro</td>\n",
       "      <td>49010</td>\n",
       "      <td>2</td>\n",
       "      <td>81</td>\n",
       "      <td>33</td>\n",
       "      <td>82092.386880</td>\n",
       "    </tr>\n",
       "    <tr>\n",
       "      <th>4</th>\n",
       "      <td>5</td>\n",
       "      <td>Tier 3</td>\n",
       "      <td>Executive</td>\n",
       "      <td>Metro</td>\n",
       "      <td>57879</td>\n",
       "      <td>4</td>\n",
       "      <td>74</td>\n",
       "      <td>32</td>\n",
       "      <td>73878.097729</td>\n",
       "    </tr>\n",
       "  </tbody>\n",
       "</table>\n",
       "</div>"
      ],
      "text/plain": [
       "   S.No. College       Role  City type  Previous CTC  Previous job changes  \\\n",
       "0      1  Tier 1    Manager  Non-Metro         55523                     3   \n",
       "1      2  Tier 2  Executive      Metro         57081                     1   \n",
       "2      3  Tier 2  Executive      Metro         60347                     2   \n",
       "3      4  Tier 3  Executive      Metro         49010                     2   \n",
       "4      5  Tier 3  Executive      Metro         57879                     4   \n",
       "\n",
       "   Graduation marks  Exp (Months)           CTC  \n",
       "0                66            19  71406.576531  \n",
       "1                84            18  68005.870631  \n",
       "2                52            28  76764.020277  \n",
       "3                81            33  82092.386880  \n",
       "4                74            32  73878.097729  "
      ]
     },
     "execution_count": 9,
     "metadata": {},
     "output_type": "execute_result"
    }
   ],
   "source": [
    "df.head()"
   ]
  },
  {
   "cell_type": "code",
   "execution_count": 10,
   "id": "7431518e",
   "metadata": {},
   "outputs": [],
   "source": [
    "df = pd.get_dummies(df)"
   ]
  },
  {
   "cell_type": "code",
   "execution_count": 11,
   "id": "5945d20a",
   "metadata": {},
   "outputs": [
    {
     "data": {
      "text/html": [
       "<div>\n",
       "<style scoped>\n",
       "    .dataframe tbody tr th:only-of-type {\n",
       "        vertical-align: middle;\n",
       "    }\n",
       "\n",
       "    .dataframe tbody tr th {\n",
       "        vertical-align: top;\n",
       "    }\n",
       "\n",
       "    .dataframe thead th {\n",
       "        text-align: right;\n",
       "    }\n",
       "</style>\n",
       "<table border=\"1\" class=\"dataframe\">\n",
       "  <thead>\n",
       "    <tr style=\"text-align: right;\">\n",
       "      <th></th>\n",
       "      <th>S.No.</th>\n",
       "      <th>Previous CTC</th>\n",
       "      <th>Previous job changes</th>\n",
       "      <th>Graduation marks</th>\n",
       "      <th>Exp (Months)</th>\n",
       "      <th>CTC</th>\n",
       "      <th>College_Tier 1</th>\n",
       "      <th>College_Tier 2</th>\n",
       "      <th>College_Tier 3</th>\n",
       "      <th>Role_Executive</th>\n",
       "      <th>Role_Manager</th>\n",
       "      <th>City type_Metro</th>\n",
       "      <th>City type_Non-Metro</th>\n",
       "    </tr>\n",
       "  </thead>\n",
       "  <tbody>\n",
       "    <tr>\n",
       "      <th>0</th>\n",
       "      <td>1</td>\n",
       "      <td>55523</td>\n",
       "      <td>3</td>\n",
       "      <td>66</td>\n",
       "      <td>19</td>\n",
       "      <td>71406.576531</td>\n",
       "      <td>1</td>\n",
       "      <td>0</td>\n",
       "      <td>0</td>\n",
       "      <td>0</td>\n",
       "      <td>1</td>\n",
       "      <td>0</td>\n",
       "      <td>1</td>\n",
       "    </tr>\n",
       "    <tr>\n",
       "      <th>1</th>\n",
       "      <td>2</td>\n",
       "      <td>57081</td>\n",
       "      <td>1</td>\n",
       "      <td>84</td>\n",
       "      <td>18</td>\n",
       "      <td>68005.870631</td>\n",
       "      <td>0</td>\n",
       "      <td>1</td>\n",
       "      <td>0</td>\n",
       "      <td>1</td>\n",
       "      <td>0</td>\n",
       "      <td>1</td>\n",
       "      <td>0</td>\n",
       "    </tr>\n",
       "    <tr>\n",
       "      <th>2</th>\n",
       "      <td>3</td>\n",
       "      <td>60347</td>\n",
       "      <td>2</td>\n",
       "      <td>52</td>\n",
       "      <td>28</td>\n",
       "      <td>76764.020277</td>\n",
       "      <td>0</td>\n",
       "      <td>1</td>\n",
       "      <td>0</td>\n",
       "      <td>1</td>\n",
       "      <td>0</td>\n",
       "      <td>1</td>\n",
       "      <td>0</td>\n",
       "    </tr>\n",
       "    <tr>\n",
       "      <th>3</th>\n",
       "      <td>4</td>\n",
       "      <td>49010</td>\n",
       "      <td>2</td>\n",
       "      <td>81</td>\n",
       "      <td>33</td>\n",
       "      <td>82092.386880</td>\n",
       "      <td>0</td>\n",
       "      <td>0</td>\n",
       "      <td>1</td>\n",
       "      <td>1</td>\n",
       "      <td>0</td>\n",
       "      <td>1</td>\n",
       "      <td>0</td>\n",
       "    </tr>\n",
       "    <tr>\n",
       "      <th>4</th>\n",
       "      <td>5</td>\n",
       "      <td>57879</td>\n",
       "      <td>4</td>\n",
       "      <td>74</td>\n",
       "      <td>32</td>\n",
       "      <td>73878.097729</td>\n",
       "      <td>0</td>\n",
       "      <td>0</td>\n",
       "      <td>1</td>\n",
       "      <td>1</td>\n",
       "      <td>0</td>\n",
       "      <td>1</td>\n",
       "      <td>0</td>\n",
       "    </tr>\n",
       "  </tbody>\n",
       "</table>\n",
       "</div>"
      ],
      "text/plain": [
       "   S.No.  Previous CTC  Previous job changes  Graduation marks  Exp (Months)  \\\n",
       "0      1         55523                     3                66            19   \n",
       "1      2         57081                     1                84            18   \n",
       "2      3         60347                     2                52            28   \n",
       "3      4         49010                     2                81            33   \n",
       "4      5         57879                     4                74            32   \n",
       "\n",
       "            CTC  College_Tier 1  College_Tier 2  College_Tier 3  \\\n",
       "0  71406.576531               1               0               0   \n",
       "1  68005.870631               0               1               0   \n",
       "2  76764.020277               0               1               0   \n",
       "3  82092.386880               0               0               1   \n",
       "4  73878.097729               0               0               1   \n",
       "\n",
       "   Role_Executive  Role_Manager  City type_Metro  City type_Non-Metro  \n",
       "0               0             1                0                    1  \n",
       "1               1             0                1                    0  \n",
       "2               1             0                1                    0  \n",
       "3               1             0                1                    0  \n",
       "4               1             0                1                    0  "
      ]
     },
     "execution_count": 11,
     "metadata": {},
     "output_type": "execute_result"
    }
   ],
   "source": [
    "df.head()"
   ]
  },
  {
   "cell_type": "code",
   "execution_count": 12,
   "id": "538f6553",
   "metadata": {},
   "outputs": [],
   "source": [
    "del df['College_Tier 3']"
   ]
  },
  {
   "cell_type": "code",
   "execution_count": 13,
   "id": "179129e9",
   "metadata": {},
   "outputs": [],
   "source": [
    "del df['Role_Executive']"
   ]
  },
  {
   "cell_type": "code",
   "execution_count": 14,
   "id": "ec0d8749",
   "metadata": {},
   "outputs": [],
   "source": [
    "del df['City type_Non-Metro']"
   ]
  },
  {
   "cell_type": "code",
   "execution_count": 15,
   "id": "a3fbc9e7",
   "metadata": {},
   "outputs": [
    {
     "data": {
      "text/html": [
       "<div>\n",
       "<style scoped>\n",
       "    .dataframe tbody tr th:only-of-type {\n",
       "        vertical-align: middle;\n",
       "    }\n",
       "\n",
       "    .dataframe tbody tr th {\n",
       "        vertical-align: top;\n",
       "    }\n",
       "\n",
       "    .dataframe thead th {\n",
       "        text-align: right;\n",
       "    }\n",
       "</style>\n",
       "<table border=\"1\" class=\"dataframe\">\n",
       "  <thead>\n",
       "    <tr style=\"text-align: right;\">\n",
       "      <th></th>\n",
       "      <th>S.No.</th>\n",
       "      <th>Previous CTC</th>\n",
       "      <th>Previous job changes</th>\n",
       "      <th>Graduation marks</th>\n",
       "      <th>Exp (Months)</th>\n",
       "      <th>CTC</th>\n",
       "      <th>College_Tier 1</th>\n",
       "      <th>College_Tier 2</th>\n",
       "      <th>Role_Manager</th>\n",
       "      <th>City type_Metro</th>\n",
       "    </tr>\n",
       "  </thead>\n",
       "  <tbody>\n",
       "    <tr>\n",
       "      <th>0</th>\n",
       "      <td>1</td>\n",
       "      <td>55523</td>\n",
       "      <td>3</td>\n",
       "      <td>66</td>\n",
       "      <td>19</td>\n",
       "      <td>71406.576531</td>\n",
       "      <td>1</td>\n",
       "      <td>0</td>\n",
       "      <td>1</td>\n",
       "      <td>0</td>\n",
       "    </tr>\n",
       "    <tr>\n",
       "      <th>1</th>\n",
       "      <td>2</td>\n",
       "      <td>57081</td>\n",
       "      <td>1</td>\n",
       "      <td>84</td>\n",
       "      <td>18</td>\n",
       "      <td>68005.870631</td>\n",
       "      <td>0</td>\n",
       "      <td>1</td>\n",
       "      <td>0</td>\n",
       "      <td>1</td>\n",
       "    </tr>\n",
       "    <tr>\n",
       "      <th>2</th>\n",
       "      <td>3</td>\n",
       "      <td>60347</td>\n",
       "      <td>2</td>\n",
       "      <td>52</td>\n",
       "      <td>28</td>\n",
       "      <td>76764.020277</td>\n",
       "      <td>0</td>\n",
       "      <td>1</td>\n",
       "      <td>0</td>\n",
       "      <td>1</td>\n",
       "    </tr>\n",
       "    <tr>\n",
       "      <th>3</th>\n",
       "      <td>4</td>\n",
       "      <td>49010</td>\n",
       "      <td>2</td>\n",
       "      <td>81</td>\n",
       "      <td>33</td>\n",
       "      <td>82092.386880</td>\n",
       "      <td>0</td>\n",
       "      <td>0</td>\n",
       "      <td>0</td>\n",
       "      <td>1</td>\n",
       "    </tr>\n",
       "    <tr>\n",
       "      <th>4</th>\n",
       "      <td>5</td>\n",
       "      <td>57879</td>\n",
       "      <td>4</td>\n",
       "      <td>74</td>\n",
       "      <td>32</td>\n",
       "      <td>73878.097729</td>\n",
       "      <td>0</td>\n",
       "      <td>0</td>\n",
       "      <td>0</td>\n",
       "      <td>1</td>\n",
       "    </tr>\n",
       "  </tbody>\n",
       "</table>\n",
       "</div>"
      ],
      "text/plain": [
       "   S.No.  Previous CTC  Previous job changes  Graduation marks  Exp (Months)  \\\n",
       "0      1         55523                     3                66            19   \n",
       "1      2         57081                     1                84            18   \n",
       "2      3         60347                     2                52            28   \n",
       "3      4         49010                     2                81            33   \n",
       "4      5         57879                     4                74            32   \n",
       "\n",
       "            CTC  College_Tier 1  College_Tier 2  Role_Manager  City type_Metro  \n",
       "0  71406.576531               1               0             1                0  \n",
       "1  68005.870631               0               1             0                1  \n",
       "2  76764.020277               0               1             0                1  \n",
       "3  82092.386880               0               0             0                1  \n",
       "4  73878.097729               0               0             0                1  "
      ]
     },
     "execution_count": 15,
     "metadata": {},
     "output_type": "execute_result"
    }
   ],
   "source": [
    "df.head()"
   ]
  },
  {
   "cell_type": "markdown",
   "id": "884a2cd1",
   "metadata": {},
   "source": [
    "# X-y split"
   ]
  },
  {
   "cell_type": "code",
   "execution_count": 16,
   "id": "a3521ea3",
   "metadata": {},
   "outputs": [],
   "source": [
    "X = df.drop('CTC',axis=1)"
   ]
  },
  {
   "cell_type": "code",
   "execution_count": 17,
   "id": "27a2f748",
   "metadata": {},
   "outputs": [],
   "source": [
    "y = df['CTC']"
   ]
  },
  {
   "cell_type": "code",
   "execution_count": 18,
   "id": "f9146e3c",
   "metadata": {},
   "outputs": [
    {
     "data": {
      "text/html": [
       "<div>\n",
       "<style scoped>\n",
       "    .dataframe tbody tr th:only-of-type {\n",
       "        vertical-align: middle;\n",
       "    }\n",
       "\n",
       "    .dataframe tbody tr th {\n",
       "        vertical-align: top;\n",
       "    }\n",
       "\n",
       "    .dataframe thead th {\n",
       "        text-align: right;\n",
       "    }\n",
       "</style>\n",
       "<table border=\"1\" class=\"dataframe\">\n",
       "  <thead>\n",
       "    <tr style=\"text-align: right;\">\n",
       "      <th></th>\n",
       "      <th>S.No.</th>\n",
       "      <th>Previous CTC</th>\n",
       "      <th>Previous job changes</th>\n",
       "      <th>Graduation marks</th>\n",
       "      <th>Exp (Months)</th>\n",
       "      <th>College_Tier 1</th>\n",
       "      <th>College_Tier 2</th>\n",
       "      <th>Role_Manager</th>\n",
       "      <th>City type_Metro</th>\n",
       "    </tr>\n",
       "  </thead>\n",
       "  <tbody>\n",
       "    <tr>\n",
       "      <th>0</th>\n",
       "      <td>1</td>\n",
       "      <td>55523</td>\n",
       "      <td>3</td>\n",
       "      <td>66</td>\n",
       "      <td>19</td>\n",
       "      <td>1</td>\n",
       "      <td>0</td>\n",
       "      <td>1</td>\n",
       "      <td>0</td>\n",
       "    </tr>\n",
       "    <tr>\n",
       "      <th>1</th>\n",
       "      <td>2</td>\n",
       "      <td>57081</td>\n",
       "      <td>1</td>\n",
       "      <td>84</td>\n",
       "      <td>18</td>\n",
       "      <td>0</td>\n",
       "      <td>1</td>\n",
       "      <td>0</td>\n",
       "      <td>1</td>\n",
       "    </tr>\n",
       "    <tr>\n",
       "      <th>2</th>\n",
       "      <td>3</td>\n",
       "      <td>60347</td>\n",
       "      <td>2</td>\n",
       "      <td>52</td>\n",
       "      <td>28</td>\n",
       "      <td>0</td>\n",
       "      <td>1</td>\n",
       "      <td>0</td>\n",
       "      <td>1</td>\n",
       "    </tr>\n",
       "    <tr>\n",
       "      <th>3</th>\n",
       "      <td>4</td>\n",
       "      <td>49010</td>\n",
       "      <td>2</td>\n",
       "      <td>81</td>\n",
       "      <td>33</td>\n",
       "      <td>0</td>\n",
       "      <td>0</td>\n",
       "      <td>0</td>\n",
       "      <td>1</td>\n",
       "    </tr>\n",
       "    <tr>\n",
       "      <th>4</th>\n",
       "      <td>5</td>\n",
       "      <td>57879</td>\n",
       "      <td>4</td>\n",
       "      <td>74</td>\n",
       "      <td>32</td>\n",
       "      <td>0</td>\n",
       "      <td>0</td>\n",
       "      <td>0</td>\n",
       "      <td>1</td>\n",
       "    </tr>\n",
       "  </tbody>\n",
       "</table>\n",
       "</div>"
      ],
      "text/plain": [
       "   S.No.  Previous CTC  Previous job changes  Graduation marks  Exp (Months)  \\\n",
       "0      1         55523                     3                66            19   \n",
       "1      2         57081                     1                84            18   \n",
       "2      3         60347                     2                52            28   \n",
       "3      4         49010                     2                81            33   \n",
       "4      5         57879                     4                74            32   \n",
       "\n",
       "   College_Tier 1  College_Tier 2  Role_Manager  City type_Metro  \n",
       "0               1               0             1                0  \n",
       "1               0               1             0                1  \n",
       "2               0               1             0                1  \n",
       "3               0               0             0                1  \n",
       "4               0               0             0                1  "
      ]
     },
     "execution_count": 18,
     "metadata": {},
     "output_type": "execute_result"
    }
   ],
   "source": [
    "X.head()"
   ]
  },
  {
   "cell_type": "code",
   "execution_count": 19,
   "id": "fa5df3f8",
   "metadata": {},
   "outputs": [
    {
     "data": {
      "text/plain": [
       "0    71406.576531\n",
       "1    68005.870631\n",
       "2    76764.020277\n",
       "3    82092.386880\n",
       "4    73878.097729\n",
       "Name: CTC, dtype: float64"
      ]
     },
     "execution_count": 19,
     "metadata": {},
     "output_type": "execute_result"
    }
   ],
   "source": [
    "y.head()"
   ]
  },
  {
   "cell_type": "markdown",
   "id": "ba83fd55",
   "metadata": {},
   "source": [
    "# Test Train Split"
   ]
  },
  {
   "cell_type": "code",
   "execution_count": 20,
   "id": "bb4f66e0",
   "metadata": {},
   "outputs": [],
   "source": [
    "from sklearn.model_selection import train_test_split"
   ]
  },
  {
   "cell_type": "code",
   "execution_count": 21,
   "id": "a806571b",
   "metadata": {},
   "outputs": [],
   "source": [
    "X_train,X_test,y_train,y_test = train_test_split(X,y,test_size=0.2,random_state=0)"
   ]
  },
  {
   "cell_type": "code",
   "execution_count": 22,
   "id": "777c4450",
   "metadata": {},
   "outputs": [
    {
     "data": {
      "text/plain": [
       "(1070, 9)"
      ]
     },
     "execution_count": 22,
     "metadata": {},
     "output_type": "execute_result"
    }
   ],
   "source": [
    "X_train.shape"
   ]
  },
  {
   "cell_type": "code",
   "execution_count": 23,
   "id": "042f0b8c",
   "metadata": {},
   "outputs": [
    {
     "data": {
      "text/plain": [
       "(1070,)"
      ]
     },
     "execution_count": 23,
     "metadata": {},
     "output_type": "execute_result"
    }
   ],
   "source": [
    "y_train.shape"
   ]
  },
  {
   "cell_type": "code",
   "execution_count": 24,
   "id": "2339a640",
   "metadata": {},
   "outputs": [
    {
     "data": {
      "text/plain": [
       "LinearRegression()"
      ]
     },
     "execution_count": 24,
     "metadata": {},
     "output_type": "execute_result"
    }
   ],
   "source": [
    "lm.fit(X_train,y_train)"
   ]
  },
  {
   "cell_type": "markdown",
   "id": "277e08f5",
   "metadata": {},
   "source": [
    "# Model Prediction"
   ]
  },
  {
   "cell_type": "code",
   "execution_count": 25,
   "id": "ef1e731d",
   "metadata": {},
   "outputs": [],
   "source": [
    "y_train_predicted = lm.predict(X_train)"
   ]
  },
  {
   "cell_type": "code",
   "execution_count": 26,
   "id": "2a9ce8df",
   "metadata": {},
   "outputs": [
    {
     "data": {
      "text/plain": [
       "array([94648.40559188, 68719.98692989, 88520.25527041, ...,\n",
       "       69396.70523182, 67172.83928757, 63617.3505221 ])"
      ]
     },
     "execution_count": 26,
     "metadata": {},
     "output_type": "execute_result"
    }
   ],
   "source": [
    "y_train_predicted"
   ]
  },
  {
   "cell_type": "code",
   "execution_count": 27,
   "id": "4ab43e7c",
   "metadata": {},
   "outputs": [],
   "source": [
    "y_test_predicted = lm.predict(X_test)"
   ]
  },
  {
   "cell_type": "code",
   "execution_count": 28,
   "id": "175050ae",
   "metadata": {},
   "outputs": [
    {
     "data": {
      "text/plain": [
       "array([ 79340.05788044,  69069.68397878,  97124.97714335,  79017.77539717,\n",
       "        65375.38336947,  72213.97301376,  64087.6569129 ,  72138.17617583,\n",
       "        67273.19908662,  71849.86727597,  63805.74722433,  67659.73887272,\n",
       "        70484.36188941,  60128.97395109,  85062.92798344,  66532.14459661,\n",
       "        74065.87112417,  73377.85099095,  70641.88695488,  91851.61582327,\n",
       "        89331.0718807 ,  72527.49640453,  76454.58789357,  87366.10736361,\n",
       "        66375.85462869,  77536.48725694,  63076.79711062,  68805.66870093,\n",
       "        63636.00328679,  73884.21750667,  67375.79515867,  97243.85379548,\n",
       "        84467.28883801,  82210.0318811 ,  81397.79325501,  67380.05344154,\n",
       "        77161.80093682,  94658.15826367,  87947.52563623,  67085.08947941,\n",
       "        66647.31403528,  66756.57243721,  94252.433445  , 100745.97443423,\n",
       "        83984.78179533,  64558.26153128,  69947.14609632,  68848.25312211,\n",
       "        63422.57538702,  66637.49551442,  71371.93115519,  61899.67797046,\n",
       "        98673.06118722,  98560.20141467,  76604.7981846 ,  77402.4249258 ,\n",
       "        71763.50338095,  74602.39229964,  67768.49885198,  71473.97865167,\n",
       "        70768.59253116,  97667.29276499,  75320.46161634,  78683.18329361,\n",
       "        80375.05114343,  79808.52648192,  86432.08271332,  89016.26281377,\n",
       "        57672.31758085,  71164.5806797 ,  74251.05381396,  73880.82587283,\n",
       "        87031.48710683,  73766.40992938,  69381.04626181,  75960.07592569,\n",
       "        73124.62836329,  71389.50854393,  87134.10031217, 105433.28598895,\n",
       "        74712.09147359,  93687.77178114,  68033.46215175,  75368.81131897,\n",
       "        99623.63073863,  84794.69384524,  76144.35988834,  70280.60826308,\n",
       "        79741.23589401,  97001.5847052 ,  72948.19389161,  81872.00171365,\n",
       "        73406.87098771,  68688.8715324 ,  76825.49839349,  68380.52719741,\n",
       "        98298.17799015,  96909.78903163,  67491.53826955,  86674.33850068,\n",
       "        66491.35655517,  73349.12856829,  65475.41610945,  90124.72734903,\n",
       "        90439.61302097,  59841.43197854,  74701.46803453,  67346.51410417,\n",
       "        82089.25060343, 103399.54625495,  65701.00516623,  74567.37097081,\n",
       "        70988.37444412,  92944.25529547,  99419.59330525,  74167.38126512,\n",
       "        69260.63288995,  77676.11976912,  82367.64736191,  69351.33720263,\n",
       "        93631.00776099,  65171.19286128,  82755.9288252 ,  76131.1053469 ,\n",
       "        72743.28534502,  58784.04952144,  90083.32540483,  86629.10850013,\n",
       "       103700.38057406,  69875.82580213,  68599.21138769,  66220.89866205,\n",
       "        67387.89426144,  76077.95291423,  93914.38818537,  96229.47930569,\n",
       "        85594.89228484,  68320.9301468 ,  85016.6272999 ,  63775.91240187,\n",
       "        63827.36389597,  75320.6079059 ,  76322.02085733,  82084.78046544,\n",
       "        69257.41714107,  74747.89918163,  75951.49960652,  58492.65187826,\n",
       "        62212.1071054 ,  75722.77746505,  68067.90831998,  92158.63709978,\n",
       "        79321.37925245,  64708.44851436,  66486.21309567,  66145.14287418,\n",
       "        65719.22102181,  62938.26793377,  70632.19360314,  68819.5038081 ,\n",
       "        75536.37312823,  80785.95760211,  70859.88639578,  82920.05072333,\n",
       "        63823.74041173,  72051.96742398,  82760.83001454,  68348.184155  ,\n",
       "        71616.5145073 ,  67359.12765451,  70039.26203296,  71110.02945827,\n",
       "        66434.24735059,  70820.92151371,  74374.30381247,  67541.4760562 ,\n",
       "        68101.16582242,  66094.13089531, 100232.19257601,  69362.50729567,\n",
       "        73010.95738701,  69461.25161089,  76808.8512421 ,  69516.14560073,\n",
       "        69708.25267204, 100879.19723861,  71122.79561365,  67001.07711163,\n",
       "        75738.54631266,  76588.49346453,  96419.13122934,  62058.80044559,\n",
       "        70266.89355679,  89461.9880555 ,  71902.83958551,  72266.45350681,\n",
       "        74538.91876565,  71127.46050478,  70754.7415992 ,  70026.03882276,\n",
       "        77164.27492828,  97788.22601836,  70842.71979772,  91875.00112703,\n",
       "        68127.44058249,  90476.60524338,  68344.80157847,  77480.90372448,\n",
       "        69332.38917772,  71242.6338988 ,  76189.41553329,  79487.03712958,\n",
       "        61746.29832741,  69117.07633176,  77947.20202279,  67821.91124818,\n",
       "        74065.04528249,  65489.66372871,  71194.85319406,  65499.95045608,\n",
       "        74067.17693707,  70086.73586661,  74106.74806532,  63558.64078951,\n",
       "        76819.8367229 ,  80510.02438977,  73900.59951704,  72499.74314524,\n",
       "        64424.16029147,  65211.94917918,  66897.99762307,  84620.7142321 ,\n",
       "        74899.34022662,  65165.75266731,  62852.43483975,  76410.64944712,\n",
       "        73269.90200002,  92184.44023525,  77017.861229  ,  74016.66440578,\n",
       "        71025.7289624 ,  86024.67368732,  74716.83432041,  68845.64218406,\n",
       "        70405.34927083,  75024.71421029,  71258.31937738,  69737.99115856,\n",
       "        66206.06917555,  71912.48556621,  81189.64678807,  96690.05732888,\n",
       "        69792.02344455,  67478.35467091,  64740.01229393,  67080.06581361,\n",
       "        81048.4119915 ,  64486.57717527,  67556.62620934,  59999.8779448 ,\n",
       "        68694.51713497,  93077.64842481, 103401.43063624,  72009.36156699,\n",
       "        73126.79397092,  86307.40607984,  84592.06983811,  74599.35278598])"
      ]
     },
     "execution_count": 28,
     "metadata": {},
     "output_type": "execute_result"
    }
   ],
   "source": [
    "y_test_predicted"
   ]
  },
  {
   "cell_type": "code",
   "execution_count": 29,
   "id": "3319a30b",
   "metadata": {},
   "outputs": [],
   "source": [
    "from sklearn.metrics import r2_score"
   ]
  },
  {
   "cell_type": "code",
   "execution_count": 30,
   "id": "1adf38ee",
   "metadata": {},
   "outputs": [
    {
     "data": {
      "text/plain": [
       "0.5900887162191408"
      ]
     },
     "execution_count": 30,
     "metadata": {},
     "output_type": "execute_result"
    }
   ],
   "source": [
    "r2_score(y_train,y_train_predicted)"
   ]
  },
  {
   "cell_type": "code",
   "execution_count": 31,
   "id": "c468ccff",
   "metadata": {},
   "outputs": [
    {
     "data": {
      "text/plain": [
       "0.6707922937255979"
      ]
     },
     "execution_count": 31,
     "metadata": {},
     "output_type": "execute_result"
    }
   ],
   "source": [
    "r2_score(y_test,y_test_predicted)"
   ]
  },
  {
   "cell_type": "markdown",
   "id": "dd543572",
   "metadata": {},
   "source": [
    "# Predicting best Linear Model "
   ]
  },
  {
   "cell_type": "code",
   "execution_count": 32,
   "id": "8d3a50ca",
   "metadata": {},
   "outputs": [],
   "source": [
    "scores = []\n",
    "for i in range(1000):\n",
    "    X_train,X_test,y_train,y_test = train_test_split(X,y,test_size=0.2,random_state=i)\n",
    "    lm.fit(X_train,y_train)\n",
    "    y_train_predicted = lm.predict(X_train)\n",
    "    y_test_predicted = lm.predict(X_test)\n",
    "    r2_score(y_test,y_test_predicted)\n",
    "    scores.append(r2_score(y_test,y_test_predicted))"
   ]
  },
  {
   "cell_type": "code",
   "execution_count": 33,
   "id": "a1157b15",
   "metadata": {},
   "outputs": [
    {
     "data": {
      "text/plain": [
       "215"
      ]
     },
     "execution_count": 33,
     "metadata": {},
     "output_type": "execute_result"
    }
   ],
   "source": [
    "np.argmax(scores)"
   ]
  },
  {
   "cell_type": "code",
   "execution_count": 34,
   "id": "05d14f82",
   "metadata": {},
   "outputs": [
    {
     "data": {
      "text/plain": [
       "0.7245182902838088"
      ]
     },
     "execution_count": 34,
     "metadata": {},
     "output_type": "execute_result"
    }
   ],
   "source": [
    "scores[np.argmax(scores)]"
   ]
  },
  {
   "cell_type": "markdown",
   "id": "9eb814a3",
   "metadata": {},
   "source": [
    "# Predicting Using Best Model"
   ]
  },
  {
   "cell_type": "code",
   "execution_count": 35,
   "id": "33abd124",
   "metadata": {},
   "outputs": [
    {
     "data": {
      "text/plain": [
       "0.7245182902838088"
      ]
     },
     "execution_count": 35,
     "metadata": {},
     "output_type": "execute_result"
    }
   ],
   "source": [
    "X_train,X_test,y_train,y_test = train_test_split(X,y,test_size=0.2,random_state=215)\n",
    "lm.fit(X_train,y_train)\n",
    "y_train_predicted = lm.predict(X_train)\n",
    "y_test_predicted = lm.predict(X_test)\n",
    "r2_score(y_test,y_test_predicted)"
   ]
  },
  {
   "cell_type": "code",
   "execution_count": 36,
   "id": "5ed78964",
   "metadata": {},
   "outputs": [
    {
     "data": {
      "text/plain": [
       "array([88389.23681763, 75050.63673   , 94462.74141378, ...,\n",
       "       88042.26501146, 79126.76097278, 59592.38876051])"
      ]
     },
     "execution_count": 36,
     "metadata": {},
     "output_type": "execute_result"
    }
   ],
   "source": [
    "y_train_predicted"
   ]
  },
  {
   "cell_type": "code",
   "execution_count": 37,
   "id": "7d3cb91d",
   "metadata": {},
   "outputs": [
    {
     "data": {
      "text/plain": [
       "array([ 76027.57203976,  69354.91944067,  73804.94257211,  97643.49283679,\n",
       "        77509.1309847 ,  61815.27769164,  63715.79004375,  72777.00344646,\n",
       "        75694.13274137,  59464.58887384,  93972.09749249,  82201.85514358,\n",
       "        82075.87724113,  75640.57643238,  71806.52945805,  72099.57537967,\n",
       "        90695.4133868 ,  99291.8330289 ,  63115.67063125,  78832.76482149,\n",
       "        69926.16676022,  75185.06290562,  86384.34450144,  84847.8204858 ,\n",
       "        74613.96055292,  75901.62742585,  69945.43723169,  92804.45902917,\n",
       "        68420.71932884,  69830.61202051,  94350.96314479,  65807.17118784,\n",
       "        59530.85055651,  81465.66573246,  71200.25420888,  70956.38213307,\n",
       "        69987.16119989,  67888.1639395 ,  71059.87559873,  58852.89668007,\n",
       "        70638.10465469,  92265.8438536 ,  66509.72174162,  62160.73269788,\n",
       "        73540.22725022,  66280.86698698,  70434.60893262,  97992.72068111,\n",
       "        66821.0223214 , 105259.02153873,  90924.62038256,  74907.45416779,\n",
       "        71318.4557253 ,  65634.16240007,  71233.71277003,  72225.19313202,\n",
       "        66275.77909103,  76009.36542738,  70055.89057282,  77316.87654573,\n",
       "        69475.74237646,  66482.89068313,  97201.74392327,  73323.4303026 ,\n",
       "        94932.1838807 ,  62150.75990305,  72911.97683378,  69059.22429619,\n",
       "        65542.4718033 ,  74147.66002385,  77018.23722008,  78885.88514572,\n",
       "        63429.58331931,  65251.42037805,  72134.19326489,  63873.39396978,\n",
       "       100066.38861597,  79185.56709791,  75457.30809707,  69064.86455127,\n",
       "        97326.54875042,  65424.77071766,  83575.7857838 ,  88423.86085963,\n",
       "       103994.84621047,  86187.15362625,  81795.53206401,  74739.13482197,\n",
       "        90942.38043397,  96777.58386968,  67804.10028654,  70561.66818486,\n",
       "        70074.42672663,  97790.3853753 ,  73742.93547319,  79474.9946674 ,\n",
       "        68270.32625257,  63904.42896879,  80343.52955991,  86294.26955449,\n",
       "        63598.86169105,  67351.37505259,  60792.97789726,  75385.55603749,\n",
       "        82942.23020018,  98532.28561252,  69239.62689241,  90109.33722184,\n",
       "        66351.41661604,  69002.81320339,  70540.34951617,  75235.58444032,\n",
       "        66541.60032306,  76946.28035648,  71638.61712969,  74094.83591613,\n",
       "        76240.24881385,  67004.38623342,  81138.01385353,  77838.56642453,\n",
       "        65004.65486141,  86034.84556424,  64996.41557128,  76743.3185319 ,\n",
       "        92035.24053744,  68542.77160031,  95612.53960846,  78920.18925052,\n",
       "        99593.85666314,  66840.94645444,  71047.48890376,  82864.95035233,\n",
       "        77756.22113873,  76102.44322025,  63666.93003234,  69212.14798687,\n",
       "        92038.65643622,  64364.1946379 ,  73421.55845939,  63264.00494232,\n",
       "        96349.2448141 ,  74719.95907313,  76476.05947994,  75542.04835921,\n",
       "        86219.73768258,  88963.82326911,  69504.1267956 ,  59356.15430054,\n",
       "        75673.56311473,  71375.22302031,  69142.1333057 ,  70968.17295509,\n",
       "        76131.2923245 ,  93592.44979933,  81694.17746003,  77086.18961049,\n",
       "        66561.78832184,  78159.72130174,  89400.3037395 ,  77294.58922514,\n",
       "        60798.89447905,  69343.43331466,  62783.21071652,  72398.38775664,\n",
       "        84763.5206147 ,  69895.9534023 ,  92749.53953857,  69347.69757013,\n",
       "        73683.43196901,  65292.71159032,  71592.64711098,  85885.63171255,\n",
       "        67574.69076883,  98147.29127977,  74398.588706  ,  66062.56588116,\n",
       "        82243.25406393,  73511.23410293,  87288.71395922,  79606.20224796,\n",
       "        82802.55015837,  91546.40420249,  67956.00961736,  78860.71682022,\n",
       "       102493.39656134,  90862.5120446 ,  71140.65699648,  66986.46648976,\n",
       "        70439.83788354,  57411.59244689,  68184.60531672,  77432.66562212,\n",
       "        86284.76387141,  85146.0148947 ,  70321.92310285,  76671.60545359,\n",
       "        57466.28461814,  69916.55280223,  74614.40711955,  97656.69828888,\n",
       "        83816.65293523,  92312.09570129,  69084.32123956,  68560.5438306 ,\n",
       "        97083.40279451,  67326.95305828,  77704.3496108 ,  89373.52665301,\n",
       "        85096.16025804,  66172.14748906,  69608.66147996,  73098.60982861,\n",
       "        63729.01597125,  79988.52838969,  84734.45242683,  76178.22973507,\n",
       "        79373.36446415,  97672.56733299,  66282.6078651 ,  83850.51230059,\n",
       "        93944.57815475,  74297.74554218,  91946.69424839,  75131.86808411,\n",
       "        65566.31523975,  67621.71959188,  68107.96768139,  71697.99283204,\n",
       "        66871.82157087,  88215.40352813,  77199.53510499,  71191.27990605,\n",
       "        73874.75753074,  80770.67258431,  79552.43469189,  70227.53101609,\n",
       "        69529.52477239,  74231.45254039,  91238.54198373,  65343.50099586,\n",
       "        98689.15793061,  76561.05447378,  81485.80088246,  81250.62837579,\n",
       "        70273.20984224,  69791.3214395 ,  76763.02493165,  66039.57257719,\n",
       "        77734.14396805,  68213.87895671,  91643.95935301,  86341.56586437,\n",
       "        90565.41736788,  71313.17807932,  67953.12785674,  63535.75653532,\n",
       "        73509.76706971,  73888.75150167,  80015.17253028,  75502.79114211,\n",
       "        75791.07154094,  68418.83170185,  83043.89474519,  80131.08649776,\n",
       "        65935.72701905,  66617.88975239,  74556.81586535,  64110.17444461])"
      ]
     },
     "execution_count": 37,
     "metadata": {},
     "output_type": "execute_result"
    }
   ],
   "source": [
    "y_test_predicted"
   ]
  },
  {
   "cell_type": "code",
   "execution_count": 38,
   "id": "a9acd0a9",
   "metadata": {},
   "outputs": [],
   "source": [
    "y = lm.predict(X)"
   ]
  },
  {
   "cell_type": "code",
   "execution_count": 39,
   "id": "09d0eca8",
   "metadata": {},
   "outputs": [
    {
     "data": {
      "text/plain": [
       "array([86236.55180338, 66340.57329466, 70350.22454165, ...,\n",
       "       64250.47134553, 66262.19272318, 90983.8403971 ])"
      ]
     },
     "execution_count": 39,
     "metadata": {},
     "output_type": "execute_result"
    }
   ],
   "source": [
    "y"
   ]
  },
  {
   "cell_type": "code",
   "execution_count": 40,
   "id": "58fd6aff",
   "metadata": {},
   "outputs": [],
   "source": [
    "df['Predicted CTC'] = y"
   ]
  },
  {
   "cell_type": "code",
   "execution_count": 41,
   "id": "f2e5fec4",
   "metadata": {},
   "outputs": [
    {
     "data": {
      "text/html": [
       "<div>\n",
       "<style scoped>\n",
       "    .dataframe tbody tr th:only-of-type {\n",
       "        vertical-align: middle;\n",
       "    }\n",
       "\n",
       "    .dataframe tbody tr th {\n",
       "        vertical-align: top;\n",
       "    }\n",
       "\n",
       "    .dataframe thead th {\n",
       "        text-align: right;\n",
       "    }\n",
       "</style>\n",
       "<table border=\"1\" class=\"dataframe\">\n",
       "  <thead>\n",
       "    <tr style=\"text-align: right;\">\n",
       "      <th></th>\n",
       "      <th>S.No.</th>\n",
       "      <th>Previous CTC</th>\n",
       "      <th>Previous job changes</th>\n",
       "      <th>Graduation marks</th>\n",
       "      <th>Exp (Months)</th>\n",
       "      <th>CTC</th>\n",
       "      <th>College_Tier 1</th>\n",
       "      <th>College_Tier 2</th>\n",
       "      <th>Role_Manager</th>\n",
       "      <th>City type_Metro</th>\n",
       "      <th>Predicted CTC</th>\n",
       "    </tr>\n",
       "  </thead>\n",
       "  <tbody>\n",
       "    <tr>\n",
       "      <th>0</th>\n",
       "      <td>1</td>\n",
       "      <td>55523</td>\n",
       "      <td>3</td>\n",
       "      <td>66</td>\n",
       "      <td>19</td>\n",
       "      <td>71406.576531</td>\n",
       "      <td>1</td>\n",
       "      <td>0</td>\n",
       "      <td>1</td>\n",
       "      <td>0</td>\n",
       "      <td>86236.551803</td>\n",
       "    </tr>\n",
       "    <tr>\n",
       "      <th>1</th>\n",
       "      <td>2</td>\n",
       "      <td>57081</td>\n",
       "      <td>1</td>\n",
       "      <td>84</td>\n",
       "      <td>18</td>\n",
       "      <td>68005.870631</td>\n",
       "      <td>0</td>\n",
       "      <td>1</td>\n",
       "      <td>0</td>\n",
       "      <td>1</td>\n",
       "      <td>66340.573295</td>\n",
       "    </tr>\n",
       "    <tr>\n",
       "      <th>2</th>\n",
       "      <td>3</td>\n",
       "      <td>60347</td>\n",
       "      <td>2</td>\n",
       "      <td>52</td>\n",
       "      <td>28</td>\n",
       "      <td>76764.020277</td>\n",
       "      <td>0</td>\n",
       "      <td>1</td>\n",
       "      <td>0</td>\n",
       "      <td>1</td>\n",
       "      <td>70350.224542</td>\n",
       "    </tr>\n",
       "    <tr>\n",
       "      <th>3</th>\n",
       "      <td>4</td>\n",
       "      <td>49010</td>\n",
       "      <td>2</td>\n",
       "      <td>81</td>\n",
       "      <td>33</td>\n",
       "      <td>82092.386880</td>\n",
       "      <td>0</td>\n",
       "      <td>0</td>\n",
       "      <td>0</td>\n",
       "      <td>1</td>\n",
       "      <td>67636.987833</td>\n",
       "    </tr>\n",
       "    <tr>\n",
       "      <th>4</th>\n",
       "      <td>5</td>\n",
       "      <td>57879</td>\n",
       "      <td>4</td>\n",
       "      <td>74</td>\n",
       "      <td>32</td>\n",
       "      <td>73878.097729</td>\n",
       "      <td>0</td>\n",
       "      <td>0</td>\n",
       "      <td>0</td>\n",
       "      <td>1</td>\n",
       "      <td>71046.451753</td>\n",
       "    </tr>\n",
       "  </tbody>\n",
       "</table>\n",
       "</div>"
      ],
      "text/plain": [
       "   S.No.  Previous CTC  Previous job changes  Graduation marks  Exp (Months)  \\\n",
       "0      1         55523                     3                66            19   \n",
       "1      2         57081                     1                84            18   \n",
       "2      3         60347                     2                52            28   \n",
       "3      4         49010                     2                81            33   \n",
       "4      5         57879                     4                74            32   \n",
       "\n",
       "            CTC  College_Tier 1  College_Tier 2  Role_Manager  \\\n",
       "0  71406.576531               1               0             1   \n",
       "1  68005.870631               0               1             0   \n",
       "2  76764.020277               0               1             0   \n",
       "3  82092.386880               0               0             0   \n",
       "4  73878.097729               0               0             0   \n",
       "\n",
       "   City type_Metro  Predicted CTC  \n",
       "0                0   86236.551803  \n",
       "1                1   66340.573295  \n",
       "2                1   70350.224542  \n",
       "3                1   67636.987833  \n",
       "4                1   71046.451753  "
      ]
     },
     "execution_count": 41,
     "metadata": {},
     "output_type": "execute_result"
    }
   ],
   "source": [
    "df.head()"
   ]
  },
  {
   "cell_type": "code",
   "execution_count": 42,
   "id": "2b4a002e",
   "metadata": {},
   "outputs": [
    {
     "data": {
      "text/html": [
       "<div>\n",
       "<style scoped>\n",
       "    .dataframe tbody tr th:only-of-type {\n",
       "        vertical-align: middle;\n",
       "    }\n",
       "\n",
       "    .dataframe tbody tr th {\n",
       "        vertical-align: top;\n",
       "    }\n",
       "\n",
       "    .dataframe thead th {\n",
       "        text-align: right;\n",
       "    }\n",
       "</style>\n",
       "<table border=\"1\" class=\"dataframe\">\n",
       "  <thead>\n",
       "    <tr style=\"text-align: right;\">\n",
       "      <th></th>\n",
       "      <th>S.No.</th>\n",
       "      <th>Previous CTC</th>\n",
       "      <th>Previous job changes</th>\n",
       "      <th>Graduation marks</th>\n",
       "      <th>Exp (Months)</th>\n",
       "      <th>CTC</th>\n",
       "      <th>College_Tier 1</th>\n",
       "      <th>College_Tier 2</th>\n",
       "      <th>Role_Manager</th>\n",
       "      <th>City type_Metro</th>\n",
       "      <th>Predicted CTC</th>\n",
       "    </tr>\n",
       "  </thead>\n",
       "  <tbody>\n",
       "    <tr>\n",
       "      <th>count</th>\n",
       "      <td>1338.000000</td>\n",
       "      <td>1338.000000</td>\n",
       "      <td>1338.000000</td>\n",
       "      <td>1338.000000</td>\n",
       "      <td>1338.000000</td>\n",
       "      <td>1338.000000</td>\n",
       "      <td>1338.000000</td>\n",
       "      <td>1338.000000</td>\n",
       "      <td>1338.000000</td>\n",
       "      <td>1338.000000</td>\n",
       "      <td>1338.000000</td>\n",
       "    </tr>\n",
       "    <tr>\n",
       "      <th>mean</th>\n",
       "      <td>669.500000</td>\n",
       "      <td>55581.762332</td>\n",
       "      <td>2.525411</td>\n",
       "      <td>59.890882</td>\n",
       "      <td>39.207025</td>\n",
       "      <td>75459.338993</td>\n",
       "      <td>0.485052</td>\n",
       "      <td>0.272048</td>\n",
       "      <td>0.204783</td>\n",
       "      <td>0.505232</td>\n",
       "      <td>75680.503396</td>\n",
       "    </tr>\n",
       "    <tr>\n",
       "      <th>std</th>\n",
       "      <td>386.391641</td>\n",
       "      <td>6685.600553</td>\n",
       "      <td>1.123502</td>\n",
       "      <td>14.894696</td>\n",
       "      <td>14.049960</td>\n",
       "      <td>12551.280263</td>\n",
       "      <td>0.499963</td>\n",
       "      <td>0.445181</td>\n",
       "      <td>0.403694</td>\n",
       "      <td>0.500160</td>\n",
       "      <td>9650.075103</td>\n",
       "    </tr>\n",
       "    <tr>\n",
       "      <th>min</th>\n",
       "      <td>1.000000</td>\n",
       "      <td>36990.000000</td>\n",
       "      <td>1.000000</td>\n",
       "      <td>35.000000</td>\n",
       "      <td>18.000000</td>\n",
       "      <td>53020.319026</td>\n",
       "      <td>0.000000</td>\n",
       "      <td>0.000000</td>\n",
       "      <td>0.000000</td>\n",
       "      <td>0.000000</td>\n",
       "      <td>57411.592447</td>\n",
       "    </tr>\n",
       "    <tr>\n",
       "      <th>25%</th>\n",
       "      <td>335.250000</td>\n",
       "      <td>50547.000000</td>\n",
       "      <td>2.000000</td>\n",
       "      <td>47.000000</td>\n",
       "      <td>27.000000</td>\n",
       "      <td>66905.070033</td>\n",
       "      <td>0.000000</td>\n",
       "      <td>0.000000</td>\n",
       "      <td>0.000000</td>\n",
       "      <td>0.000000</td>\n",
       "      <td>68532.168381</td>\n",
       "    </tr>\n",
       "    <tr>\n",
       "      <th>50%</th>\n",
       "      <td>669.500000</td>\n",
       "      <td>55293.500000</td>\n",
       "      <td>3.000000</td>\n",
       "      <td>60.000000</td>\n",
       "      <td>39.000000</td>\n",
       "      <td>73112.640487</td>\n",
       "      <td>0.000000</td>\n",
       "      <td>0.000000</td>\n",
       "      <td>0.000000</td>\n",
       "      <td>1.000000</td>\n",
       "      <td>73968.107439</td>\n",
       "    </tr>\n",
       "    <tr>\n",
       "      <th>75%</th>\n",
       "      <td>1003.750000</td>\n",
       "      <td>60150.500000</td>\n",
       "      <td>4.000000</td>\n",
       "      <td>73.000000</td>\n",
       "      <td>51.000000</td>\n",
       "      <td>80747.178420</td>\n",
       "      <td>1.000000</td>\n",
       "      <td>1.000000</td>\n",
       "      <td>0.000000</td>\n",
       "      <td>1.000000</td>\n",
       "      <td>80827.620298</td>\n",
       "    </tr>\n",
       "    <tr>\n",
       "      <th>max</th>\n",
       "      <td>1338.000000</td>\n",
       "      <td>77911.000000</td>\n",
       "      <td>4.000000</td>\n",
       "      <td>85.000000</td>\n",
       "      <td>64.000000</td>\n",
       "      <td>123416.994271</td>\n",
       "      <td>1.000000</td>\n",
       "      <td>1.000000</td>\n",
       "      <td>1.000000</td>\n",
       "      <td>1.000000</td>\n",
       "      <td>105259.021539</td>\n",
       "    </tr>\n",
       "  </tbody>\n",
       "</table>\n",
       "</div>"
      ],
      "text/plain": [
       "             S.No.  Previous CTC  Previous job changes  Graduation marks  \\\n",
       "count  1338.000000   1338.000000           1338.000000       1338.000000   \n",
       "mean    669.500000  55581.762332              2.525411         59.890882   \n",
       "std     386.391641   6685.600553              1.123502         14.894696   \n",
       "min       1.000000  36990.000000              1.000000         35.000000   \n",
       "25%     335.250000  50547.000000              2.000000         47.000000   \n",
       "50%     669.500000  55293.500000              3.000000         60.000000   \n",
       "75%    1003.750000  60150.500000              4.000000         73.000000   \n",
       "max    1338.000000  77911.000000              4.000000         85.000000   \n",
       "\n",
       "       Exp (Months)            CTC  College_Tier 1  College_Tier 2  \\\n",
       "count   1338.000000    1338.000000     1338.000000     1338.000000   \n",
       "mean      39.207025   75459.338993        0.485052        0.272048   \n",
       "std       14.049960   12551.280263        0.499963        0.445181   \n",
       "min       18.000000   53020.319026        0.000000        0.000000   \n",
       "25%       27.000000   66905.070033        0.000000        0.000000   \n",
       "50%       39.000000   73112.640487        0.000000        0.000000   \n",
       "75%       51.000000   80747.178420        1.000000        1.000000   \n",
       "max       64.000000  123416.994271        1.000000        1.000000   \n",
       "\n",
       "       Role_Manager  City type_Metro  Predicted CTC  \n",
       "count   1338.000000      1338.000000    1338.000000  \n",
       "mean       0.204783         0.505232   75680.503396  \n",
       "std        0.403694         0.500160    9650.075103  \n",
       "min        0.000000         0.000000   57411.592447  \n",
       "25%        0.000000         0.000000   68532.168381  \n",
       "50%        0.000000         1.000000   73968.107439  \n",
       "75%        0.000000         1.000000   80827.620298  \n",
       "max        1.000000         1.000000  105259.021539  "
      ]
     },
     "execution_count": 42,
     "metadata": {},
     "output_type": "execute_result"
    }
   ],
   "source": [
    "df.describe()"
   ]
  },
  {
   "cell_type": "code",
   "execution_count": 43,
   "id": "056d2206",
   "metadata": {},
   "outputs": [],
   "source": [
    "df.to_excel('Test_data_file.xlsx')"
   ]
  }
 ],
 "metadata": {
  "kernelspec": {
   "display_name": "Python 3 (ipykernel)",
   "language": "python",
   "name": "python3"
  },
  "language_info": {
   "codemirror_mode": {
    "name": "ipython",
    "version": 3
   },
   "file_extension": ".py",
   "mimetype": "text/x-python",
   "name": "python",
   "nbconvert_exporter": "python",
   "pygments_lexer": "ipython3",
   "version": "3.9.12"
  }
 },
 "nbformat": 4,
 "nbformat_minor": 5
}
